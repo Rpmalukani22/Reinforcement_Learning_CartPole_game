{
  "nbformat": 4,
  "nbformat_minor": 0,
  "metadata": {
    "colab": {
      "name": "Reinforcement Learning - CartPole game.ipynb",
      "provenance": [],
      "collapsed_sections": [],
      "authorship_tag": "ABX9TyPqGQbVSTj/8ja3vHbz85Td",
      "include_colab_link": true
    },
    "kernelspec": {
      "name": "python3",
      "display_name": "Python 3"
    },
    "language_info": {
      "name": "python"
    }
  },
  "cells": [
    {
      "cell_type": "markdown",
      "metadata": {
        "id": "view-in-github",
        "colab_type": "text"
      },
      "source": [
        "<a href=\"https://colab.research.google.com/github/Rpmalukani22/Reinforcement_Learning_CartPole_game/blob/main/Reinforcement_Learning_CartPole_game.ipynb\" target=\"_parent\"><img src=\"https://colab.research.google.com/assets/colab-badge.svg\" alt=\"Open In Colab\"/></a>"
      ]
    },
    {
      "cell_type": "markdown",
      "metadata": {
        "id": "eSsXR_0MPchk"
      },
      "source": [
        "# Reinforcement Learning - CartPole game"
      ]
    },
    {
      "cell_type": "code",
      "metadata": {
        "id": "qtpNc9B_Ovxx"
      },
      "source": [
        "# !pip install -U gym\n",
        "import gym\n",
        "import random\n",
        "import numpy as np\n",
        "from IPython import display as ipythondisplay\n",
        "import matplotlib.pyplot as plt\n",
        "%matplotlib inline"
      ],
      "execution_count": 1,
      "outputs": []
    },
    {
      "cell_type": "markdown",
      "metadata": {
        "id": "qCMZH1UWSV6l"
      },
      "source": [
        "## Display settings"
      ]
    },
    {
      "cell_type": "code",
      "metadata": {
        "colab": {
          "base_uri": "https://localhost:8080/"
        },
        "id": "mKlEY_hIQ7Jh",
        "outputId": "43043392-d059-40e6-9d66-8e35758eb089"
      },
      "source": [
        "!apt-get install -y xvfb python-opengl > /dev/null 2>&1\n",
        "!pip install gym pyvirtualdisplay > /dev/null 2>&1\n",
        "\n",
        "from pyvirtualdisplay import Display\n",
        "display = Display(visible=0, size=(400, 300))\n",
        "display.start()\n"
      ],
      "execution_count": 2,
      "outputs": [
        {
          "output_type": "execute_result",
          "data": {
            "text/plain": [
              "<pyvirtualdisplay.display.Display at 0x7f2df34a8990>"
            ]
          },
          "metadata": {
            "tags": []
          },
          "execution_count": 2
        }
      ]
    },
    {
      "cell_type": "markdown",
      "metadata": {
        "id": "893sN85HSY2m"
      },
      "source": [
        "## Random game play"
      ]
    },
    {
      "cell_type": "code",
      "metadata": {
        "colab": {
          "base_uri": "https://localhost:8080/",
          "height": 269
        },
        "id": "K8HtP-oJRaLr",
        "outputId": "573b6d30-3dd2-4285-d168-dde245e6a95f"
      },
      "source": [
        "env = gym.make(\"CartPole-v0\")\n",
        "env.reset()\n",
        "prev_screen = env.render(mode='rgb_array')\n",
        "plt.imshow(prev_screen)\n",
        "\n",
        "for i in range(50):\n",
        "  action = env.action_space.sample()\n",
        "  obs, reward, done, info = env.step(action)\n",
        "  screen = env.render(mode='rgb_array')\n",
        "\n",
        "  plt.imshow(screen)\n",
        "  ipythondisplay.clear_output(wait=True)\n",
        "  ipythondisplay.display(plt.gcf())\n",
        "\n",
        "  if done:\n",
        "    break\n",
        "\n",
        "ipythondisplay.clear_output(wait=True)\n",
        "env.close()"
      ],
      "execution_count": 3,
      "outputs": [
        {
          "output_type": "display_data",
          "data": {
            "image/png": "[encoded data removed]",
            "text/plain": [
              "<Figure size 432x288 with 1 Axes>"
            ]
          },
          "metadata": {
            "tags": [],
            "needs_background": "light"
          }
        }
      ]
    },
    {
      "cell_type": "code",
      "metadata": {
        "id": "AJ6oDl-SO8dK"
      },
      "source": [
        "env = gym.make(\"CartPole-v1\")"
      ],
      "execution_count": 4,
      "outputs": []
    },
    {
      "cell_type": "code",
      "metadata": {
        "id": "Z6IuNjBOPBsX"
      },
      "source": [
        "def playEpisode():\n",
        "  state=env.reset()\n",
        "  done=False\n",
        "  score=0\n",
        "  while not done:\n",
        "    # env.render()\n",
        "    action=random.choice([0,1])\n",
        "    new_state,reward,done,info = env.step(action)\n",
        "    score+=1\n",
        "  # print(\"Episode score : \",score)\n",
        "  env.close()\n",
        "  return score"
      ],
      "execution_count": 5,
      "outputs": []
    },
    {
      "cell_type": "code",
      "metadata": {
        "colab": {
          "base_uri": "https://localhost:8080/"
        },
        "id": "NowsDU8vPYwc",
        "outputId": "e92a8cd4-4ee9-4cc4-f86f-91e3cb9bd154"
      },
      "source": [
        "n_episodes=100\n",
        "sum=0\n",
        "for episode in range(n_episodes):\n",
        "  sum+=playEpisode()\n",
        "print(f\"Avg score for {n_episodes} episodes\",sum/n_episodes)"
      ],
      "execution_count": 6,
      "outputs": [
        {
          "output_type": "stream",
          "text": [
            "Avg score for 100 episodes 21.78\n"
          ],
          "name": "stdout"
        }
      ]
    },
    {
      "cell_type": "markdown",
      "metadata": {
        "id": "wh0wA8yTSn5f"
      },
      "source": [
        "### Observation: Avg score for 100 episode is approximately 22. We can train a model which can learn to play this game to achieve better score."
      ]
    },
    {
      "cell_type": "markdown",
      "metadata": {
        "id": "YBcNRBvHY8Gv"
      },
      "source": [
        "## Reinforcement Learning using Deep Q Learning Algorithm\n",
        "* Bellman equation `Q(s,a) = r + gamma*(max(Q(s',a')))`"
      ]
    },
    {
      "cell_type": "code",
      "metadata": {
        "id": "jqwssot0ZTNM"
      },
      "source": [
        "from collections import deque\n",
        "import tensorflow as tf\n",
        "import numpy as np\n",
        "import matplotlib.pyplot as plt\n",
        "import random"
      ],
      "execution_count": 7,
      "outputs": []
    },
    {
      "cell_type": "code",
      "metadata": {
        "colab": {
          "base_uri": "https://localhost:8080/"
        },
        "id": "VXSQErYLZxX1",
        "outputId": "b943b59a-ccdc-4a62-950a-ef52b3a131b8"
      },
      "source": [
        "#Environment params\n",
        "n_states = env.observation_space.shape[0]\n",
        "n_actions = env.action_space.n\n",
        "n_states,n_actions"
      ],
      "execution_count": 9,
      "outputs": [
        {
          "output_type": "execute_result",
          "data": {
            "text/plain": [
              "(4, 2)"
            ]
          },
          "metadata": {
            "tags": []
          },
          "execution_count": 9
        }
      ]
    },
    {
      "cell_type": "code",
      "metadata": {
        "id": "qoZYcGDFZ76T"
      },
      "source": [
        "#defining hyperparameters\n",
        "gamma=0.95 #discount rate for the reward which is comparatively far from current reward\n",
        "epsilon=1.0 #how much % random action should be taken\n",
        "min_epsilon=0.01 #minimum % of random choice\n",
        "epsilon_decay_rate=0.99 #rate of reduction for epsilon\n",
        "buffer_size=20000\n",
        "n_episodes=500\n",
        "batch_size=32"
      ],
      "execution_count": 17,
      "outputs": []
    },
    {
      "cell_type": "code",
      "metadata": {
        "id": "YP67HsEjabJ1"
      },
      "source": [
        "#function define the model architecture\n",
        "def get_agent(n_states,n_actions):\n",
        "  model=tf.keras.Sequential()\n",
        "  model.add(tf.keras.layers.Dense(16,input_dim=n_states,activation='relu'))\n",
        "  model.add(tf.keras.layers.Dense(16,activation='relu'))\n",
        "  model.add(tf.keras.layers.Dense(16,activation='relu'))\n",
        "  model.add(tf.keras.layers.Dense(n_actions,activation='linear'))\n",
        "  return model\n"
      ],
      "execution_count": 18,
      "outputs": []
    },
    {
      "cell_type": "code",
      "metadata": {
        "id": "DAQS1Rrva890"
      },
      "source": [
        "def get_action(model,state,epsilon,n_actions,n_states):\n",
        "  if np.random.rand()<=epsilon:\n",
        "    return random.randrange(n_actions)\n",
        "  else:\n",
        "    return np.argmax(model.predict(state.reshape(1,n_states))[0])"
      ],
      "execution_count": 19,
      "outputs": []
    },
    {
      "cell_type": "code",
      "metadata": {
        "id": "G80JjumpbP_e"
      },
      "source": [
        "def memorize(training_data,state,action,next_state,reward,done):\n",
        "  training_data.append((state,action,next_state,reward,done))"
      ],
      "execution_count": 20,
      "outputs": []
    },
    {
      "cell_type": "code",
      "metadata": {
        "id": "q9da07LubbES"
      },
      "source": [
        "def train_on_batch(model,training_data,batch_size,n_states,min_epsilon,epsilon_decay_rate):\n",
        "  global epsilon\n",
        "  idx = random.sample(range(len(training_data)),min(len(training_data),batch_size))\n",
        "  train_batch = [training_data[i] for i in idx]\n",
        "  for move in train_batch:\n",
        "    state,action,next_state,reward,done = move\n",
        "    y_train_value = reward #target value for a single action\n",
        "    if not done:\n",
        "      y_train_value = reward + gamma*(np.max(model.predict(next_state.reshape(1,n_states))[0]))\n",
        "    y_train = model.predict(state.reshape(1,n_states)) #results all actions\n",
        "    y_train[0][action] = y_train_value #supervision on single action\n",
        "    model.fit(state.reshape(1,n_states),y_train,epochs=1,verbose=0)\n",
        "  if epsilon>min_epsilon:\n",
        "    epsilon*=epsilon_decay_rate\n",
        "\n"
      ],
      "execution_count": 21,
      "outputs": []
    },
    {
      "cell_type": "code",
      "metadata": {
        "id": "kLs1DcPNdRYB"
      },
      "source": [
        "def train():\n",
        "  try:\n",
        "    global epsilon\n",
        "    tf.keras.backend.clear_session()\n",
        "    agent =get_agent(n_states,n_actions)\n",
        "    agent.compile(loss='mse',optimizer='adam')\n",
        "    training_data=deque(maxlen=buffer_size)\n",
        "    scores=[]\n",
        "    for episode in range(n_episodes):\n",
        "      score=0\n",
        "      state = env.reset()\n",
        "      done=False\n",
        "      while not done:\n",
        "        action=get_action(agent,state,epsilon,n_actions,n_states)\n",
        "        next_state,reward,done,_=env.step(action)\n",
        "        memorize(training_data,state,action,next_state,reward,done)\n",
        "        state=next_state\n",
        "        score+=1\n",
        "      train_on_batch(agent,training_data,batch_size,n_states,min_epsilon,epsilon_decay_rate)\n",
        "      print(f\"Episode : {episode} | score: {score} | epsilon: {epsilon} | length of experienced data {len(training_data)} \")\n",
        "      scores.append(score)\n",
        "  except KeyboardInterrupt as e:\n",
        "      return agent,scores\n",
        "  return agent,scores"
      ],
      "execution_count": 26,
      "outputs": []
    },
    {
      "cell_type": "code",
      "metadata": {
        "colab": {
          "base_uri": "https://localhost:8080/"
        },
        "id": "plnJlXNxdS9o",
        "outputId": "4d698a7d-a07f-4dce-8ee7-f8c4898f0cae"
      },
      "source": [
        "agent,scores = train()"
      ],
      "execution_count": 27,
      "outputs": [
        {
          "output_type": "stream",
          "text": [
            "Episode : 0 | score: 23 | epsilon: 0.8863848717161291 | length of experienced data 23 \n",
            "Episode : 1 | score: 13 | epsilon: 0.8775210229989678 | length of experienced data 36 \n",
            "Episode : 2 | score: 20 | epsilon: 0.8687458127689781 | length of experienced data 56 \n",
            "Episode : 3 | score: 13 | epsilon: 0.8600583546412883 | length of experienced data 69 \n",
            "Episode : 4 | score: 11 | epsilon: 0.8514577710948754 | length of experienced data 80 \n",
            "Episode : 5 | score: 38 | epsilon: 0.8429431933839266 | length of experienced data 118 \n",
            "Episode : 6 | score: 20 | epsilon: 0.8345137614500874 | length of experienced data 138 \n",
            "Episode : 7 | score: 15 | epsilon: 0.8261686238355865 | length of experienced data 153 \n",
            "Episode : 8 | score: 34 | epsilon: 0.8179069375972307 | length of experienced data 187 \n",
            "Episode : 9 | score: 28 | epsilon: 0.8097278682212583 | length of experienced data 215 \n",
            "Episode : 10 | score: 19 | epsilon: 0.8016305895390458 | length of experienced data 234 \n",
            "Episode : 11 | score: 15 | epsilon: 0.7936142836436553 | length of experienced data 249 \n",
            "Episode : 12 | score: 12 | epsilon: 0.7856781408072188 | length of experienced data 261 \n",
            "Episode : 13 | score: 36 | epsilon: 0.7778213593991465 | length of experienced data 297 \n",
            "Episode : 14 | score: 10 | epsilon: 0.7700431458051551 | length of experienced data 307 \n",
            "Episode : 15 | score: 13 | epsilon: 0.7623427143471035 | length of experienced data 320 \n",
            "Episode : 16 | score: 22 | epsilon: 0.7547192872036325 | length of experienced data 342 \n",
            "Episode : 17 | score: 13 | epsilon: 0.7471720943315961 | length of experienced data 355 \n",
            "Episode : 18 | score: 27 | epsilon: 0.7397003733882802 | length of experienced data 382 \n",
            "Episode : 19 | score: 10 | epsilon: 0.7323033696543974 | length of experienced data 392 \n",
            "Episode : 20 | score: 20 | epsilon: 0.7249803359578534 | length of experienced data 412 \n",
            "Episode : 21 | score: 21 | epsilon: 0.7177305325982748 | length of experienced data 433 \n",
            "Episode : 22 | score: 39 | epsilon: 0.7105532272722921 | length of experienced data 472 \n",
            "Episode : 23 | score: 29 | epsilon: 0.7034476949995692 | length of experienced data 501 \n",
            "Episode : 24 | score: 20 | epsilon: 0.6964132180495735 | length of experienced data 521 \n",
            "Episode : 25 | score: 12 | epsilon: 0.6894490858690777 | length of experienced data 533 \n",
            "Episode : 26 | score: 11 | epsilon: 0.682554595010387 | length of experienced data 544 \n",
            "Episode : 27 | score: 10 | epsilon: 0.6757290490602831 | length of experienced data 554 \n",
            "Episode : 28 | score: 16 | epsilon: 0.6689717585696803 | length of experienced data 570 \n",
            "Episode : 29 | score: 12 | epsilon: 0.6622820409839835 | length of experienced data 582 \n",
            "Episode : 30 | score: 15 | epsilon: 0.6556592205741436 | length of experienced data 597 \n",
            "Episode : 31 | score: 22 | epsilon: 0.6491026283684022 | length of experienced data 619 \n",
            "Episode : 32 | score: 11 | epsilon: 0.6426116020847181 | length of experienced data 630 \n",
            "Episode : 33 | score: 30 | epsilon: 0.6361854860638709 | length of experienced data 660 \n",
            "Episode : 34 | score: 13 | epsilon: 0.6298236312032323 | length of experienced data 673 \n",
            "Episode : 35 | score: 9 | epsilon: 0.6235253948912 | length of experienced data 682 \n",
            "Episode : 36 | score: 19 | epsilon: 0.617290140942288 | length of experienced data 701 \n",
            "Episode : 37 | score: 10 | epsilon: 0.6111172395328651 | length of experienced data 711 \n",
            "Episode : 38 | score: 11 | epsilon: 0.6050060671375365 | length of experienced data 722 \n",
            "Episode : 39 | score: 17 | epsilon: 0.5989560064661611 | length of experienced data 739 \n",
            "Episode : 40 | score: 56 | epsilon: 0.5929664464014994 | length of experienced data 795 \n",
            "Episode : 41 | score: 13 | epsilon: 0.5870367819374844 | length of experienced data 808 \n",
            "Episode : 42 | score: 42 | epsilon: 0.5811664141181095 | length of experienced data 850 \n",
            "Episode : 43 | score: 13 | epsilon: 0.5753547499769285 | length of experienced data 863 \n",
            "Episode : 44 | score: 70 | epsilon: 0.5696012024771592 | length of experienced data 933 \n",
            "Episode : 45 | score: 16 | epsilon: 0.5639051904523876 | length of experienced data 949 \n",
            "Episode : 46 | score: 23 | epsilon: 0.5582661385478638 | length of experienced data 972 \n",
            "Episode : 47 | score: 21 | epsilon: 0.5526834771623851 | length of experienced data 993 \n",
            "Episode : 48 | score: 15 | epsilon: 0.5471566423907612 | length of experienced data 1008 \n",
            "Episode : 49 | score: 15 | epsilon: 0.5416850759668536 | length of experienced data 1023 \n",
            "Episode : 50 | score: 41 | epsilon: 0.536268225207185 | length of experienced data 1064 \n",
            "Episode : 51 | score: 14 | epsilon: 0.5309055429551132 | length of experienced data 1078 \n",
            "Episode : 52 | score: 26 | epsilon: 0.525596487525562 | length of experienced data 1104 \n",
            "Episode : 53 | score: 29 | epsilon: 0.5203405226503064 | length of experienced data 1133 \n",
            "Episode : 54 | score: 14 | epsilon: 0.5151371174238033 | length of experienced data 1147 \n",
            "Episode : 55 | score: 41 | epsilon: 0.5099857462495653 | length of experienced data 1188 \n",
            "Episode : 56 | score: 12 | epsilon: 0.5048858887870696 | length of experienced data 1200 \n",
            "Episode : 57 | score: 11 | epsilon: 0.4998370298991989 | length of experienced data 1211 \n",
            "Episode : 58 | score: 10 | epsilon: 0.49483865960020695 | length of experienced data 1221 \n",
            "Episode : 59 | score: 20 | epsilon: 0.4898902730042049 | length of experienced data 1241 \n",
            "Episode : 60 | score: 9 | epsilon: 0.48499137027416284 | length of experienced data 1250 \n",
            "Episode : 61 | score: 13 | epsilon: 0.4801414565714212 | length of experienced data 1263 \n",
            "Episode : 62 | score: 10 | epsilon: 0.475340042005707 | length of experienced data 1273 \n",
            "Episode : 63 | score: 16 | epsilon: 0.47058664158564995 | length of experienced data 1289 \n",
            "Episode : 64 | score: 31 | epsilon: 0.4658807751697934 | length of experienced data 1320 \n",
            "Episode : 65 | score: 19 | epsilon: 0.4612219674180955 | length of experienced data 1339 \n",
            "Episode : 66 | score: 36 | epsilon: 0.45660974774391455 | length of experienced data 1375 \n",
            "Episode : 67 | score: 43 | epsilon: 0.4520436502664754 | length of experienced data 1418 \n",
            "Episode : 68 | score: 19 | epsilon: 0.44752321376381066 | length of experienced data 1437 \n",
            "Episode : 69 | score: 12 | epsilon: 0.44304798162617254 | length of experienced data 1449 \n",
            "Episode : 70 | score: 20 | epsilon: 0.4386175018099108 | length of experienced data 1469 \n",
            "Episode : 71 | score: 19 | epsilon: 0.4342313267918117 | length of experienced data 1488 \n",
            "Episode : 72 | score: 17 | epsilon: 0.4298890135238936 | length of experienced data 1505 \n",
            "Episode : 73 | score: 15 | epsilon: 0.42559012338865465 | length of experienced data 1520 \n",
            "Episode : 74 | score: 19 | epsilon: 0.4213342221547681 | length of experienced data 1539 \n",
            "Episode : 75 | score: 16 | epsilon: 0.41712087993322045 | length of experienced data 1555 \n",
            "Episode : 76 | score: 22 | epsilon: 0.41294967113388825 | length of experienced data 1577 \n",
            "Episode : 77 | score: 19 | epsilon: 0.40882017442254937 | length of experienced data 1596 \n",
            "Episode : 78 | score: 24 | epsilon: 0.4047319726783239 | length of experienced data 1620 \n",
            "Episode : 79 | score: 53 | epsilon: 0.40068465295154065 | length of experienced data 1673 \n",
            "Episode : 80 | score: 13 | epsilon: 0.39667780642202527 | length of experienced data 1686 \n",
            "Episode : 81 | score: 15 | epsilon: 0.392711028357805 | length of experienced data 1701 \n",
            "Episode : 82 | score: 10 | epsilon: 0.38878391807422696 | length of experienced data 1711 \n",
            "Episode : 83 | score: 19 | epsilon: 0.3848960788934847 | length of experienced data 1730 \n",
            "Episode : 84 | score: 12 | epsilon: 0.38104711810454983 | length of experienced data 1742 \n",
            "Episode : 85 | score: 22 | epsilon: 0.37723664692350434 | length of experienced data 1764 \n",
            "Episode : 86 | score: 16 | epsilon: 0.37346428045426927 | length of experienced data 1780 \n",
            "Episode : 87 | score: 13 | epsilon: 0.36972963764972655 | length of experienced data 1793 \n",
            "Episode : 88 | score: 18 | epsilon: 0.36603234127322926 | length of experienced data 1811 \n",
            "Episode : 89 | score: 30 | epsilon: 0.36237201786049694 | length of experienced data 1841 \n",
            "Episode : 90 | score: 19 | epsilon: 0.358748297681892 | length of experienced data 1860 \n",
            "Episode : 91 | score: 17 | epsilon: 0.35516081470507305 | length of experienced data 1877 \n",
            "Episode : 92 | score: 25 | epsilon: 0.3516092065580223 | length of experienced data 1902 \n",
            "Episode : 93 | score: 71 | epsilon: 0.34809311449244207 | length of experienced data 1973 \n",
            "Episode : 94 | score: 13 | epsilon: 0.34461218334751764 | length of experienced data 1986 \n",
            "Episode : 95 | score: 12 | epsilon: 0.34116606151404244 | length of experienced data 1998 \n",
            "Episode : 96 | score: 11 | epsilon: 0.337754400898902 | length of experienced data 2009 \n",
            "Episode : 97 | score: 86 | epsilon: 0.334376856889913 | length of experienced data 2095 \n",
            "Episode : 98 | score: 79 | epsilon: 0.33103308832101386 | length of experienced data 2174 \n",
            "Episode : 99 | score: 12 | epsilon: 0.3277227574378037 | length of experienced data 2186 \n",
            "Episode : 100 | score: 13 | epsilon: 0.3244455298634257 | length of experienced data 2199 \n",
            "Episode : 101 | score: 34 | epsilon: 0.3212010745647914 | length of experienced data 2233 \n",
            "Episode : 102 | score: 37 | epsilon: 0.3179890638191435 | length of experienced data 2270 \n",
            "Episode : 103 | score: 11 | epsilon: 0.31480917318095203 | length of experienced data 2281 \n",
            "Episode : 104 | score: 29 | epsilon: 0.3116610814491425 | length of experienced data 2310 \n",
            "Episode : 105 | score: 24 | epsilon: 0.30854447063465107 | length of experienced data 2334 \n",
            "Episode : 106 | score: 18 | epsilon: 0.30545902592830454 | length of experienced data 2352 \n",
            "Episode : 107 | score: 73 | epsilon: 0.3024044356690215 | length of experienced data 2425 \n",
            "Episode : 108 | score: 28 | epsilon: 0.29938039131233124 | length of experienced data 2453 \n",
            "Episode : 109 | score: 36 | epsilon: 0.2963865873992079 | length of experienced data 2489 \n",
            "Episode : 110 | score: 22 | epsilon: 0.29342272152521587 | length of experienced data 2511 \n",
            "Episode : 111 | score: 25 | epsilon: 0.2904884943099637 | length of experienced data 2536 \n",
            "Episode : 112 | score: 13 | epsilon: 0.28758360936686406 | length of experienced data 2549 \n",
            "Episode : 113 | score: 22 | epsilon: 0.2847077732731954 | length of experienced data 2571 \n",
            "Episode : 114 | score: 78 | epsilon: 0.28186069554046345 | length of experienced data 2649 \n",
            "Episode : 115 | score: 37 | epsilon: 0.2790420885850588 | length of experienced data 2686 \n",
            "Episode : 116 | score: 30 | epsilon: 0.2762516676992082 | length of experienced data 2716 \n",
            "Episode : 117 | score: 48 | epsilon: 0.27348915102221616 | length of experienced data 2764 \n",
            "Episode : 118 | score: 29 | epsilon: 0.270754259511994 | length of experienced data 2793 \n",
            "Episode : 119 | score: 55 | epsilon: 0.26804671691687404 | length of experienced data 2848 \n",
            "Episode : 120 | score: 48 | epsilon: 0.2653662497477053 | length of experienced data 2896 \n",
            "Episode : 121 | score: 34 | epsilon: 0.2627125872502282 | length of experienced data 2930 \n",
            "Episode : 122 | score: 44 | epsilon: 0.2600854613777259 | length of experienced data 2974 \n",
            "Episode : 123 | score: 26 | epsilon: 0.2574846067639487 | length of experienced data 3000 \n",
            "Episode : 124 | score: 12 | epsilon: 0.2549097606963092 | length of experienced data 3012 \n",
            "Episode : 125 | score: 18 | epsilon: 0.2523606630893461 | length of experienced data 3030 \n",
            "Episode : 126 | score: 16 | epsilon: 0.24983705645845267 | length of experienced data 3046 \n",
            "Episode : 127 | score: 23 | epsilon: 0.24733868589386815 | length of experienced data 3069 \n",
            "Episode : 128 | score: 52 | epsilon: 0.24486529903492946 | length of experienced data 3121 \n",
            "Episode : 129 | score: 14 | epsilon: 0.24241664604458016 | length of experienced data 3135 \n",
            "Episode : 130 | score: 11 | epsilon: 0.23999247958413436 | length of experienced data 3146 \n",
            "Episode : 131 | score: 10 | epsilon: 0.23759255478829303 | length of experienced data 3156 \n",
            "Episode : 132 | score: 10 | epsilon: 0.2352166292404101 | length of experienced data 3166 \n",
            "Episode : 133 | score: 44 | epsilon: 0.232864462948006 | length of experienced data 3210 \n",
            "Episode : 134 | score: 81 | epsilon: 0.23053581831852593 | length of experienced data 3291 \n",
            "Episode : 135 | score: 16 | epsilon: 0.22823046013534068 | length of experienced data 3307 \n",
            "Episode : 136 | score: 24 | epsilon: 0.22594815553398728 | length of experienced data 3331 \n",
            "Episode : 137 | score: 19 | epsilon: 0.22368867397864742 | length of experienced data 3350 \n",
            "Episode : 138 | score: 15 | epsilon: 0.22145178723886094 | length of experienced data 3365 \n",
            "Episode : 139 | score: 23 | epsilon: 0.21923726936647234 | length of experienced data 3388 \n",
            "Episode : 140 | score: 15 | epsilon: 0.2170448966728076 | length of experienced data 3403 \n",
            "Episode : 141 | score: 14 | epsilon: 0.21487444770607952 | length of experienced data 3417 \n",
            "Episode : 142 | score: 17 | epsilon: 0.21272570322901874 | length of experienced data 3434 \n",
            "Episode : 143 | score: 10 | epsilon: 0.21059844619672854 | length of experienced data 3444 \n",
            "Episode : 144 | score: 13 | epsilon: 0.20849246173476127 | length of experienced data 3457 \n",
            "Episode : 145 | score: 32 | epsilon: 0.20640753711741366 | length of experienced data 3489 \n",
            "Episode : 146 | score: 29 | epsilon: 0.20434346174623952 | length of experienced data 3518 \n",
            "Episode : 147 | score: 31 | epsilon: 0.20230002712877712 | length of experienced data 3549 \n",
            "Episode : 148 | score: 18 | epsilon: 0.20027702685748935 | length of experienced data 3567 \n",
            "Episode : 149 | score: 35 | epsilon: 0.19827425658891445 | length of experienced data 3602 \n",
            "Episode : 150 | score: 19 | epsilon: 0.1962915140230253 | length of experienced data 3621 \n",
            "Episode : 151 | score: 48 | epsilon: 0.19432859888279505 | length of experienced data 3669 \n",
            "Episode : 152 | score: 117 | epsilon: 0.1923853128939671 | length of experienced data 3786 \n",
            "Episode : 153 | score: 28 | epsilon: 0.19046145976502743 | length of experienced data 3814 \n",
            "Episode : 154 | score: 18 | epsilon: 0.18855684516737714 | length of experienced data 3832 \n",
            "Episode : 155 | score: 26 | epsilon: 0.18667127671570335 | length of experienced data 3858 \n",
            "Episode : 156 | score: 42 | epsilon: 0.18480456394854633 | length of experienced data 3900 \n",
            "Episode : 157 | score: 61 | epsilon: 0.18295651830906087 | length of experienced data 3961 \n",
            "Episode : 158 | score: 53 | epsilon: 0.18112695312597027 | length of experienced data 4014 \n",
            "Episode : 159 | score: 39 | epsilon: 0.17931568359471056 | length of experienced data 4053 \n",
            "Episode : 160 | score: 30 | epsilon: 0.17752252675876345 | length of experienced data 4083 \n",
            "Episode : 161 | score: 45 | epsilon: 0.17574730149117582 | length of experienced data 4128 \n",
            "Episode : 162 | score: 22 | epsilon: 0.17398982847626407 | length of experienced data 4150 \n",
            "Episode : 163 | score: 21 | epsilon: 0.17224993019150142 | length of experienced data 4171 \n",
            "Episode : 164 | score: 97 | epsilon: 0.1705274308895864 | length of experienced data 4268 \n",
            "Episode : 165 | score: 71 | epsilon: 0.16882215658069055 | length of experienced data 4339 \n",
            "Episode : 166 | score: 20 | epsilon: 0.16713393501488363 | length of experienced data 4359 \n",
            "Episode : 167 | score: 26 | epsilon: 0.16546259566473479 | length of experienced data 4385 \n",
            "Episode : 168 | score: 24 | epsilon: 0.16380796970808745 | length of experienced data 4409 \n",
            "Episode : 169 | score: 58 | epsilon: 0.16216989001100657 | length of experienced data 4467 \n",
            "Episode : 170 | score: 20 | epsilon: 0.1605481911108965 | length of experienced data 4487 \n",
            "Episode : 171 | score: 29 | epsilon: 0.15894270919978754 | length of experienced data 4516 \n",
            "Episode : 172 | score: 54 | epsilon: 0.15735328210778965 | length of experienced data 4570 \n",
            "Episode : 173 | score: 33 | epsilon: 0.15577974928671176 | length of experienced data 4603 \n",
            "Episode : 174 | score: 18 | epsilon: 0.15422195179384465 | length of experienced data 4621 \n",
            "Episode : 175 | score: 48 | epsilon: 0.1526797322759062 | length of experienced data 4669 \n",
            "Episode : 176 | score: 35 | epsilon: 0.15115293495314713 | length of experienced data 4704 \n",
            "Episode : 177 | score: 140 | epsilon: 0.14964140560361566 | length of experienced data 4844 \n",
            "Episode : 178 | score: 22 | epsilon: 0.1481449915475795 | length of experienced data 4866 \n",
            "Episode : 179 | score: 33 | epsilon: 0.1466635416321037 | length of experienced data 4899 \n",
            "Episode : 180 | score: 33 | epsilon: 0.14519690621578268 | length of experienced data 4932 \n",
            "Episode : 181 | score: 54 | epsilon: 0.14374493715362485 | length of experienced data 4986 \n",
            "Episode : 182 | score: 43 | epsilon: 0.1423074877820886 | length of experienced data 5029 \n",
            "Episode : 183 | score: 34 | epsilon: 0.1408844129042677 | length of experienced data 5063 \n",
            "Episode : 184 | score: 35 | epsilon: 0.13947556877522502 | length of experienced data 5098 \n",
            "Episode : 185 | score: 28 | epsilon: 0.13808081308747278 | length of experienced data 5126 \n",
            "Episode : 186 | score: 40 | epsilon: 0.13670000495659804 | length of experienced data 5166 \n",
            "Episode : 187 | score: 41 | epsilon: 0.13533300490703207 | length of experienced data 5207 \n",
            "Episode : 188 | score: 73 | epsilon: 0.13397967485796175 | length of experienced data 5280 \n",
            "Episode : 189 | score: 46 | epsilon: 0.13263987810938213 | length of experienced data 5326 \n",
            "Episode : 190 | score: 26 | epsilon: 0.1313134793282883 | length of experienced data 5352 \n",
            "Episode : 191 | score: 36 | epsilon: 0.13000034453500542 | length of experienced data 5388 \n",
            "Episode : 192 | score: 28 | epsilon: 0.12870034108965536 | length of experienced data 5416 \n",
            "Episode : 193 | score: 39 | epsilon: 0.12741333767875881 | length of experienced data 5455 \n",
            "Episode : 194 | score: 86 | epsilon: 0.12613920430197123 | length of experienced data 5541 \n",
            "Episode : 195 | score: 68 | epsilon: 0.12487781225895152 | length of experienced data 5609 \n",
            "Episode : 196 | score: 151 | epsilon: 0.123629034136362 | length of experienced data 5760 \n",
            "Episode : 197 | score: 37 | epsilon: 0.12239274379499838 | length of experienced data 5797 \n",
            "Episode : 198 | score: 38 | epsilon: 0.1211688163570484 | length of experienced data 5835 \n",
            "Episode : 199 | score: 37 | epsilon: 0.11995712819347792 | length of experienced data 5872 \n",
            "Episode : 200 | score: 33 | epsilon: 0.11875755691154315 | length of experienced data 5905 \n",
            "Episode : 201 | score: 426 | epsilon: 0.11756998134242772 | length of experienced data 6331 \n",
            "Episode : 202 | score: 122 | epsilon: 0.11639428152900344 | length of experienced data 6453 \n",
            "Episode : 203 | score: 61 | epsilon: 0.11523033871371341 | length of experienced data 6514 \n",
            "Episode : 204 | score: 19 | epsilon: 0.11407803532657627 | length of experienced data 6533 \n",
            "Episode : 205 | score: 38 | epsilon: 0.11293725497331052 | length of experienced data 6571 \n",
            "Episode : 206 | score: 56 | epsilon: 0.1118078824235774 | length of experienced data 6627 \n",
            "Episode : 207 | score: 39 | epsilon: 0.11068980359934164 | length of experienced data 6666 \n",
            "Episode : 208 | score: 43 | epsilon: 0.10958290556334822 | length of experienced data 6709 \n",
            "Episode : 209 | score: 68 | epsilon: 0.10848707650771475 | length of experienced data 6777 \n",
            "Episode : 210 | score: 51 | epsilon: 0.1074022057426376 | length of experienced data 6828 \n",
            "Episode : 211 | score: 71 | epsilon: 0.10632818368521123 | length of experienced data 6899 \n",
            "Episode : 212 | score: 93 | epsilon: 0.10526490184835911 | length of experienced data 6992 \n",
            "Episode : 213 | score: 70 | epsilon: 0.10421225282987552 | length of experienced data 7062 \n",
            "Episode : 214 | score: 52 | epsilon: 0.10317013030157676 | length of experienced data 7114 \n",
            "Episode : 215 | score: 57 | epsilon: 0.10213842899856099 | length of experienced data 7171 \n",
            "Episode : 216 | score: 60 | epsilon: 0.10111704470857538 | length of experienced data 7231 \n",
            "Episode : 217 | score: 68 | epsilon: 0.10010587426148963 | length of experienced data 7299 \n",
            "Episode : 218 | score: 32 | epsilon: 0.09910481551887473 | length of experienced data 7331 \n",
            "Episode : 219 | score: 99 | epsilon: 0.09811376736368599 | length of experienced data 7430 \n",
            "Episode : 220 | score: 50 | epsilon: 0.09713262969004913 | length of experienced data 7480 \n",
            "Episode : 221 | score: 59 | epsilon: 0.09616130339314863 | length of experienced data 7539 \n",
            "Episode : 222 | score: 79 | epsilon: 0.09519969035921715 | length of experienced data 7618 \n",
            "Episode : 223 | score: 102 | epsilon: 0.09424769345562498 | length of experienced data 7720 \n",
            "Episode : 224 | score: 46 | epsilon: 0.09330521652106873 | length of experienced data 7766 \n",
            "Episode : 225 | score: 53 | epsilon: 0.09237216435585804 | length of experienced data 7819 \n",
            "Episode : 226 | score: 43 | epsilon: 0.09144844271229946 | length of experienced data 7862 \n",
            "Episode : 227 | score: 40 | epsilon: 0.09053395828517646 | length of experienced data 7902 \n",
            "Episode : 228 | score: 26 | epsilon: 0.08962861870232469 | length of experienced data 7928 \n",
            "Episode : 229 | score: 57 | epsilon: 0.08873233251530144 | length of experienced data 7985 \n",
            "Episode : 230 | score: 91 | epsilon: 0.08784500919014843 | length of experienced data 8076 \n",
            "Episode : 231 | score: 114 | epsilon: 0.08696655909824694 | length of experienced data 8190 \n",
            "Episode : 232 | score: 139 | epsilon: 0.08609689350726446 | length of experienced data 8329 \n",
            "Episode : 233 | score: 49 | epsilon: 0.08523592457219181 | length of experienced data 8378 \n",
            "Episode : 234 | score: 58 | epsilon: 0.0843835653264699 | length of experienced data 8436 \n",
            "Episode : 235 | score: 96 | epsilon: 0.0835397296732052 | length of experienced data 8532 \n",
            "Episode : 236 | score: 50 | epsilon: 0.08270433237647315 | length of experienced data 8582 \n",
            "Episode : 237 | score: 77 | epsilon: 0.08187728905270841 | length of experienced data 8659 \n",
            "Episode : 238 | score: 40 | epsilon: 0.08105851616218133 | length of experienced data 8699 \n",
            "Episode : 239 | score: 55 | epsilon: 0.08024793100055952 | length of experienced data 8754 \n",
            "Episode : 240 | score: 55 | epsilon: 0.07944545169055392 | length of experienced data 8809 \n",
            "Episode : 241 | score: 46 | epsilon: 0.07865099717364837 | length of experienced data 8855 \n",
            "Episode : 242 | score: 38 | epsilon: 0.07786448720191189 | length of experienced data 8893 \n",
            "Episode : 243 | score: 26 | epsilon: 0.07708584232989277 | length of experienced data 8919 \n",
            "Episode : 244 | score: 69 | epsilon: 0.07631498390659384 | length of experienced data 8988 \n",
            "Episode : 245 | score: 34 | epsilon: 0.07555183406752791 | length of experienced data 9022 \n",
            "Episode : 246 | score: 68 | epsilon: 0.07479631572685264 | length of experienced data 9090 \n",
            "Episode : 247 | score: 189 | epsilon: 0.07404835256958411 | length of experienced data 9279 \n",
            "Episode : 248 | score: 117 | epsilon: 0.07330786904388827 | length of experienced data 9396 \n",
            "Episode : 249 | score: 88 | epsilon: 0.07257479035344938 | length of experienced data 9484 \n",
            "Episode : 250 | score: 227 | epsilon: 0.07184904244991488 | length of experienced data 9711 \n",
            "Episode : 251 | score: 91 | epsilon: 0.07113055202541574 | length of experienced data 9802 \n",
            "Episode : 252 | score: 142 | epsilon: 0.07041924650516158 | length of experienced data 9944 \n",
            "Episode : 253 | score: 90 | epsilon: 0.06971505404010997 | length of experienced data 10034 \n",
            "Episode : 254 | score: 127 | epsilon: 0.06901790349970886 | length of experienced data 10161 \n",
            "Episode : 255 | score: 92 | epsilon: 0.06832772446471178 | length of experienced data 10253 \n",
            "Episode : 256 | score: 62 | epsilon: 0.06764444722006466 | length of experienced data 10315 \n",
            "Episode : 257 | score: 75 | epsilon: 0.066968002747864 | length of experienced data 10390 \n",
            "Episode : 258 | score: 64 | epsilon: 0.06629832272038537 | length of experienced data 10454 \n",
            "Episode : 259 | score: 74 | epsilon: 0.06563533949318151 | length of experienced data 10528 \n",
            "Episode : 260 | score: 47 | epsilon: 0.06497898609824969 | length of experienced data 10575 \n",
            "Episode : 261 | score: 38 | epsilon: 0.0643291962372672 | length of experienced data 10613 \n",
            "Episode : 262 | score: 55 | epsilon: 0.06368590427489453 | length of experienced data 10668 \n",
            "Episode : 263 | score: 71 | epsilon: 0.06304904523214558 | length of experienced data 10739 \n",
            "Episode : 264 | score: 58 | epsilon: 0.06241855477982412 | length of experienced data 10797 \n",
            "Episode : 265 | score: 76 | epsilon: 0.06179436923202588 | length of experienced data 10873 \n",
            "Episode : 266 | score: 131 | epsilon: 0.06117642553970562 | length of experienced data 11004 \n",
            "Episode : 267 | score: 78 | epsilon: 0.06056466128430856 | length of experienced data 11082 \n",
            "Episode : 268 | score: 49 | epsilon: 0.05995901467146548 | length of experienced data 11131 \n",
            "Episode : 269 | score: 91 | epsilon: 0.05935942452475082 | length of experienced data 11222 \n",
            "Episode : 270 | score: 80 | epsilon: 0.058765830279503314 | length of experienced data 11302 \n",
            "Episode : 271 | score: 114 | epsilon: 0.05817817197670828 | length of experienced data 11416 \n",
            "Episode : 272 | score: 73 | epsilon: 0.057596390256941195 | length of experienced data 11489 \n",
            "Episode : 273 | score: 70 | epsilon: 0.05702042635437178 | length of experienced data 11559 \n",
            "Episode : 274 | score: 86 | epsilon: 0.05645022209082806 | length of experienced data 11645 \n",
            "Episode : 275 | score: 84 | epsilon: 0.05588571986991978 | length of experienced data 11729 \n",
            "Episode : 276 | score: 101 | epsilon: 0.055326862671220584 | length of experienced data 11830 \n",
            "Episode : 277 | score: 136 | epsilon: 0.05477359404450838 | length of experienced data 11966 \n",
            "Episode : 278 | score: 50 | epsilon: 0.054225858104063294 | length of experienced data 12016 \n",
            "Episode : 279 | score: 68 | epsilon: 0.05368359952302266 | length of experienced data 12084 \n",
            "Episode : 280 | score: 92 | epsilon: 0.053146763527792434 | length of experienced data 12176 \n",
            "Episode : 281 | score: 82 | epsilon: 0.052615295892514506 | length of experienced data 12258 \n",
            "Episode : 282 | score: 137 | epsilon: 0.052089142933589364 | length of experienced data 12395 \n",
            "Episode : 283 | score: 64 | epsilon: 0.05156825150425347 | length of experienced data 12459 \n",
            "Episode : 284 | score: 43 | epsilon: 0.051052568989210935 | length of experienced data 12502 \n",
            "Episode : 285 | score: 65 | epsilon: 0.05054204329931883 | length of experienced data 12567 \n",
            "Episode : 286 | score: 42 | epsilon: 0.05003662286632564 | length of experienced data 12609 \n",
            "Episode : 287 | score: 61 | epsilon: 0.04953625663766238 | length of experienced data 12670 \n",
            "Episode : 288 | score: 78 | epsilon: 0.04904089407128576 | length of experienced data 12748 \n",
            "Episode : 289 | score: 75 | epsilon: 0.0485504851305729 | length of experienced data 12823 \n",
            "Episode : 290 | score: 69 | epsilon: 0.048064980279267165 | length of experienced data 12892 \n",
            "Episode : 291 | score: 63 | epsilon: 0.04758433047647449 | length of experienced data 12955 \n",
            "Episode : 292 | score: 79 | epsilon: 0.04710848717170975 | length of experienced data 13034 \n",
            "Episode : 293 | score: 63 | epsilon: 0.04663740229999265 | length of experienced data 13097 \n",
            "Episode : 294 | score: 74 | epsilon: 0.04617102827699272 | length of experienced data 13171 \n",
            "Episode : 295 | score: 61 | epsilon: 0.045709317994222794 | length of experienced data 13232 \n",
            "Episode : 296 | score: 71 | epsilon: 0.04525222481428057 | length of experienced data 13303 \n",
            "Episode : 297 | score: 35 | epsilon: 0.04479970256613776 | length of experienced data 13338 \n",
            "Episode : 298 | score: 177 | epsilon: 0.04435170554047638 | length of experienced data 13515 \n",
            "Episode : 299 | score: 53 | epsilon: 0.043908188485071616 | length of experienced data 13568 \n",
            "Episode : 300 | score: 36 | epsilon: 0.0434691066002209 | length of experienced data 13604 \n",
            "Episode : 301 | score: 402 | epsilon: 0.04303441553421869 | length of experienced data 14006 \n",
            "Episode : 302 | score: 75 | epsilon: 0.0426040713788765 | length of experienced data 14081 \n",
            "Episode : 303 | score: 34 | epsilon: 0.04217803066508773 | length of experienced data 14115 \n",
            "Episode : 304 | score: 59 | epsilon: 0.04175625035843686 | length of experienced data 14174 \n",
            "Episode : 305 | score: 68 | epsilon: 0.041338687854852486 | length of experienced data 14242 \n",
            "Episode : 306 | score: 111 | epsilon: 0.04092530097630396 | length of experienced data 14353 \n",
            "Episode : 307 | score: 46 | epsilon: 0.040516047966540916 | length of experienced data 14399 \n",
            "Episode : 308 | score: 64 | epsilon: 0.04011088748687551 | length of experienced data 14463 \n",
            "Episode : 309 | score: 88 | epsilon: 0.03970977861200675 | length of experienced data 14551 \n",
            "Episode : 310 | score: 87 | epsilon: 0.03931268082588668 | length of experienced data 14638 \n",
            "Episode : 311 | score: 54 | epsilon: 0.03891955401762781 | length of experienced data 14692 \n",
            "Episode : 312 | score: 76 | epsilon: 0.03853035847745153 | length of experienced data 14768 \n",
            "Episode : 313 | score: 149 | epsilon: 0.03814505489267701 | length of experienced data 14917 \n",
            "Episode : 314 | score: 71 | epsilon: 0.03776360434375024 | length of experienced data 14988 \n",
            "Episode : 315 | score: 155 | epsilon: 0.03738596830031274 | length of experienced data 15143 \n",
            "Episode : 316 | score: 166 | epsilon: 0.03701210861730961 | length of experienced data 15309 \n",
            "Episode : 317 | score: 72 | epsilon: 0.03664198753113651 | length of experienced data 15381 \n",
            "Episode : 318 | score: 57 | epsilon: 0.036275567655825146 | length of experienced data 15438 \n",
            "Episode : 319 | score: 42 | epsilon: 0.03591281197926689 | length of experienced data 15480 \n",
            "Episode : 320 | score: 60 | epsilon: 0.035553683859474224 | length of experienced data 15540 \n",
            "Episode : 321 | score: 37 | epsilon: 0.03519814702087948 | length of experienced data 15577 \n",
            "Episode : 322 | score: 38 | epsilon: 0.03484616555067068 | length of experienced data 15615 \n",
            "Episode : 323 | score: 35 | epsilon: 0.034497703895163975 | length of experienced data 15650 \n",
            "Episode : 324 | score: 51 | epsilon: 0.03415272685621234 | length of experienced data 15701 \n",
            "Episode : 325 | score: 37 | epsilon: 0.03381119958765021 | length of experienced data 15738 \n",
            "Episode : 326 | score: 87 | epsilon: 0.03347308759177371 | length of experienced data 15825 \n",
            "Episode : 327 | score: 68 | epsilon: 0.03313835671585597 | length of experienced data 15893 \n",
            "Episode : 328 | score: 36 | epsilon: 0.03280697314869741 | length of experienced data 15929 \n",
            "Episode : 329 | score: 15 | epsilon: 0.032478903417210436 | length of experienced data 15944 \n",
            "Episode : 330 | score: 41 | epsilon: 0.032154114383038335 | length of experienced data 15985 \n",
            "Episode : 331 | score: 93 | epsilon: 0.03183257323920795 | length of experienced data 16078 \n",
            "Episode : 332 | score: 164 | epsilon: 0.03151424750681587 | length of experienced data 16242 \n",
            "Episode : 333 | score: 187 | epsilon: 0.03119910503174771 | length of experienced data 16429 \n",
            "Episode : 334 | score: 123 | epsilon: 0.030887113981430233 | length of experienced data 16552 \n",
            "Episode : 335 | score: 128 | epsilon: 0.03057824284161593 | length of experienced data 16680 \n",
            "Episode : 336 | score: 140 | epsilon: 0.03027246041319977 | length of experienced data 16820 \n",
            "Episode : 337 | score: 69 | epsilon: 0.029969735809067772 | length of experienced data 16889 \n",
            "Episode : 338 | score: 120 | epsilon: 0.029670038450977095 | length of experienced data 17009 \n",
            "Episode : 339 | score: 111 | epsilon: 0.029373338066467324 | length of experienced data 17120 \n",
            "Episode : 340 | score: 97 | epsilon: 0.02907960468580265 | length of experienced data 17217 \n",
            "Episode : 341 | score: 175 | epsilon: 0.028788808638944622 | length of experienced data 17392 \n",
            "Episode : 342 | score: 177 | epsilon: 0.028500920552555174 | length of experienced data 17569 \n",
            "Episode : 343 | score: 260 | epsilon: 0.028215911347029624 | length of experienced data 17829 \n",
            "Episode : 344 | score: 142 | epsilon: 0.027933752233559327 | length of experienced data 17971 \n",
            "Episode : 345 | score: 225 | epsilon: 0.027654414711223735 | length of experienced data 18196 \n",
            "Episode : 346 | score: 176 | epsilon: 0.027377870564111496 | length of experienced data 18372 \n",
            "Episode : 347 | score: 152 | epsilon: 0.027104091858470382 | length of experienced data 18524 \n",
            "Episode : 348 | score: 92 | epsilon: 0.026833050939885677 | length of experienced data 18616 \n",
            "Episode : 349 | score: 57 | epsilon: 0.02656472043048682 | length of experienced data 18673 \n",
            "Episode : 350 | score: 95 | epsilon: 0.02629907322618195 | length of experienced data 18768 \n",
            "Episode : 351 | score: 110 | epsilon: 0.026036082493920133 | length of experienced data 18878 \n",
            "Episode : 352 | score: 88 | epsilon: 0.02577572166898093 | length of experienced data 18966 \n",
            "Episode : 353 | score: 87 | epsilon: 0.025517964452291122 | length of experienced data 19053 \n",
            "Episode : 354 | score: 69 | epsilon: 0.02526278480776821 | length of experienced data 19122 \n",
            "Episode : 355 | score: 44 | epsilon: 0.025010156959690527 | length of experienced data 19166 \n",
            "Episode : 356 | score: 56 | epsilon: 0.02476005539009362 | length of experienced data 19222 \n",
            "Episode : 357 | score: 91 | epsilon: 0.024512454836192684 | length of experienced data 19313 \n",
            "Episode : 358 | score: 167 | epsilon: 0.024267330287830756 | length of experienced data 19480 \n",
            "Episode : 359 | score: 74 | epsilon: 0.024024656984952448 | length of experienced data 19554 \n",
            "Episode : 360 | score: 84 | epsilon: 0.023784410415102923 | length of experienced data 19638 \n",
            "Episode : 361 | score: 215 | epsilon: 0.023546566310951894 | length of experienced data 19853 \n",
            "Episode : 362 | score: 194 | epsilon: 0.023311100647842375 | length of experienced data 20000 \n",
            "Episode : 363 | score: 154 | epsilon: 0.02307798964136395 | length of experienced data 20000 \n",
            "Episode : 364 | score: 78 | epsilon: 0.022847209744950314 | length of experienced data 20000 \n",
            "Episode : 365 | score: 88 | epsilon: 0.02261873764750081 | length of experienced data 20000 \n",
            "Episode : 366 | score: 315 | epsilon: 0.022392550271025803 | length of experienced data 20000 \n",
            "Episode : 367 | score: 67 | epsilon: 0.022168624768315544 | length of experienced data 20000 \n",
            "Episode : 368 | score: 13 | epsilon: 0.02194693852063239 | length of experienced data 20000 \n",
            "Episode : 369 | score: 27 | epsilon: 0.021727469135426065 | length of experienced data 20000 \n",
            "Episode : 370 | score: 279 | epsilon: 0.021510194444071803 | length of experienced data 20000 \n",
            "Episode : 371 | score: 121 | epsilon: 0.021295092499631085 | length of experienced data 20000 \n",
            "Episode : 372 | score: 253 | epsilon: 0.021082141574634772 | length of experienced data 20000 \n",
            "Episode : 373 | score: 226 | epsilon: 0.020871320158888425 | length of experienced data 20000 \n",
            "Episode : 374 | score: 188 | epsilon: 0.020662606957299542 | length of experienced data 20000 \n",
            "Episode : 375 | score: 192 | epsilon: 0.020455980887726547 | length of experienced data 20000 \n",
            "Episode : 376 | score: 451 | epsilon: 0.02025142107884928 | length of experienced data 20000 \n",
            "Episode : 377 | score: 173 | epsilon: 0.020048906868060788 | length of experienced data 20000 \n",
            "Episode : 378 | score: 82 | epsilon: 0.01984841779938018 | length of experienced data 20000 \n",
            "Episode : 379 | score: 229 | epsilon: 0.019649933621386378 | length of experienced data 20000 \n",
            "Episode : 380 | score: 131 | epsilon: 0.019453434285172513 | length of experienced data 20000 \n",
            "Episode : 381 | score: 250 | epsilon: 0.019258899942320787 | length of experienced data 20000 \n",
            "Episode : 382 | score: 50 | epsilon: 0.01906631094289758 | length of experienced data 20000 \n",
            "Episode : 383 | score: 64 | epsilon: 0.018875647833468602 | length of experienced data 20000 \n",
            "Episode : 384 | score: 265 | epsilon: 0.018686891355133916 | length of experienced data 20000 \n",
            "Episode : 385 | score: 144 | epsilon: 0.018500022441582577 | length of experienced data 20000 \n",
            "Episode : 386 | score: 136 | epsilon: 0.01831502221716675 | length of experienced data 20000 \n",
            "Episode : 387 | score: 397 | epsilon: 0.018131871994995084 | length of experienced data 20000 \n",
            "Episode : 388 | score: 207 | epsilon: 0.017950553275045134 | length of experienced data 20000 \n",
            "Episode : 389 | score: 167 | epsilon: 0.017771047742294682 | length of experienced data 20000 \n",
            "Episode : 390 | score: 127 | epsilon: 0.017593337264871736 | length of experienced data 20000 \n",
            "Episode : 391 | score: 409 | epsilon: 0.01741740389222302 | length of experienced data 20000 \n",
            "Episode : 392 | score: 197 | epsilon: 0.01724322985330079 | length of experienced data 20000 \n",
            "Episode : 393 | score: 109 | epsilon: 0.017070797554767782 | length of experienced data 20000 \n",
            "Episode : 394 | score: 151 | epsilon: 0.016900089579220106 | length of experienced data 20000 \n",
            "Episode : 395 | score: 113 | epsilon: 0.016731088683427906 | length of experienced data 20000 \n",
            "Episode : 396 | score: 379 | epsilon: 0.016563777796593626 | length of experienced data 20000 \n",
            "Episode : 397 | score: 57 | epsilon: 0.016398140018627688 | length of experienced data 20000 \n",
            "Episode : 398 | score: 79 | epsilon: 0.01623415861844141 | length of experienced data 20000 \n",
            "Episode : 399 | score: 135 | epsilon: 0.016071817032256998 | length of experienced data 20000 \n",
            "Episode : 400 | score: 103 | epsilon: 0.01591109886193443 | length of experienced data 20000 \n",
            "Episode : 401 | score: 87 | epsilon: 0.015751987873315085 | length of experienced data 20000 \n",
            "Episode : 402 | score: 121 | epsilon: 0.015594467994581935 | length of experienced data 20000 \n",
            "Episode : 403 | score: 68 | epsilon: 0.015438523314636115 | length of experienced data 20000 \n",
            "Episode : 404 | score: 138 | epsilon: 0.015284138081489753 | length of experienced data 20000 \n",
            "Episode : 405 | score: 127 | epsilon: 0.015131296700674856 | length of experienced data 20000 \n",
            "Episode : 406 | score: 122 | epsilon: 0.014979983733668108 | length of experienced data 20000 \n",
            "Episode : 407 | score: 153 | epsilon: 0.014830183896331426 | length of experienced data 20000 \n",
            "Episode : 408 | score: 129 | epsilon: 0.014681882057368112 | length of experienced data 20000 \n",
            "Episode : 409 | score: 143 | epsilon: 0.01453506323679443 | length of experienced data 20000 \n",
            "Episode : 410 | score: 174 | epsilon: 0.014389712604426485 | length of experienced data 20000 \n",
            "Episode : 411 | score: 127 | epsilon: 0.01424581547838222 | length of experienced data 20000 \n",
            "Episode : 412 | score: 116 | epsilon: 0.014103357323598397 | length of experienced data 20000 \n",
            "Episode : 413 | score: 134 | epsilon: 0.013962323750362413 | length of experienced data 20000 \n",
            "Episode : 414 | score: 101 | epsilon: 0.013822700512858789 | length of experienced data 20000 \n",
            "Episode : 415 | score: 124 | epsilon: 0.0136844735077302 | length of experienced data 20000 \n",
            "Episode : 416 | score: 126 | epsilon: 0.013547628772652899 | length of experienced data 20000 \n",
            "Episode : 417 | score: 131 | epsilon: 0.01341215248492637 | length of experienced data 20000 \n",
            "Episode : 418 | score: 125 | epsilon: 0.013278030960077106 | length of experienced data 20000 \n",
            "Episode : 419 | score: 113 | epsilon: 0.013145250650476335 | length of experienced data 20000 \n",
            "Episode : 420 | score: 126 | epsilon: 0.01301379814397157 | length of experienced data 20000 \n",
            "Episode : 421 | score: 500 | epsilon: 0.012883660162531854 | length of experienced data 20000 \n",
            "Episode : 422 | score: 309 | epsilon: 0.012754823560906535 | length of experienced data 20000 \n",
            "Episode : 423 | score: 124 | epsilon: 0.01262727532529747 | length of experienced data 20000 \n",
            "Episode : 424 | score: 133 | epsilon: 0.012501002572044496 | length of experienced data 20000 \n",
            "Episode : 425 | score: 123 | epsilon: 0.01237599254632405 | length of experienced data 20000 \n",
            "Episode : 426 | score: 154 | epsilon: 0.01225223262086081 | length of experienced data 20000 \n",
            "Episode : 427 | score: 135 | epsilon: 0.012129710294652202 | length of experienced data 20000 \n",
            "Episode : 428 | score: 154 | epsilon: 0.01200841319170568 | length of experienced data 20000 \n",
            "Episode : 429 | score: 186 | epsilon: 0.011888329059788623 | length of experienced data 20000 \n",
            "Episode : 430 | score: 172 | epsilon: 0.011769445769190737 | length of experienced data 20000 \n",
            "Episode : 431 | score: 134 | epsilon: 0.01165175131149883 | length of experienced data 20000 \n",
            "Episode : 432 | score: 148 | epsilon: 0.011535233798383842 | length of experienced data 20000 \n",
            "Episode : 433 | score: 131 | epsilon: 0.011419881460400004 | length of experienced data 20000 \n",
            "Episode : 434 | score: 126 | epsilon: 0.011305682645796004 | length of experienced data 20000 \n",
            "Episode : 435 | score: 123 | epsilon: 0.011192625819338045 | length of experienced data 20000 \n",
            "Episode : 436 | score: 126 | epsilon: 0.011080699561144665 | length of experienced data 20000 \n",
            "Episode : 437 | score: 123 | epsilon: 0.010969892565533218 | length of experienced data 20000 \n",
            "Episode : 438 | score: 108 | epsilon: 0.010860193639877886 | length of experienced data 20000 \n",
            "Episode : 439 | score: 113 | epsilon: 0.010751591703479106 | length of experienced data 20000 \n",
            "Episode : 440 | score: 133 | epsilon: 0.010644075786444315 | length of experienced data 20000 \n",
            "Episode : 441 | score: 188 | epsilon: 0.010537635028579873 | length of experienced data 20000 \n",
            "Episode : 442 | score: 107 | epsilon: 0.010432258678294073 | length of experienced data 20000 \n",
            "Episode : 443 | score: 109 | epsilon: 0.010327936091511133 | length of experienced data 20000 \n",
            "Episode : 444 | score: 120 | epsilon: 0.010224656730596022 | length of experienced data 20000 \n",
            "Episode : 445 | score: 121 | epsilon: 0.01012241016329006 | length of experienced data 20000 \n",
            "Episode : 446 | score: 163 | epsilon: 0.01002118606165716 | length of experienced data 20000 \n",
            "Episode : 447 | score: 124 | epsilon: 0.009920974201040588 | length of experienced data 20000 \n",
            "Episode : 448 | score: 161 | epsilon: 0.009920974201040588 | length of experienced data 20000 \n",
            "Episode : 449 | score: 140 | epsilon: 0.009920974201040588 | length of experienced data 20000 \n",
            "Episode : 450 | score: 148 | epsilon: 0.009920974201040588 | length of experienced data 20000 \n",
            "Episode : 451 | score: 222 | epsilon: 0.009920974201040588 | length of experienced data 20000 \n",
            "Episode : 452 | score: 119 | epsilon: 0.009920974201040588 | length of experienced data 20000 \n",
            "Episode : 453 | score: 167 | epsilon: 0.009920974201040588 | length of experienced data 20000 \n",
            "Episode : 454 | score: 132 | epsilon: 0.009920974201040588 | length of experienced data 20000 \n",
            "Episode : 455 | score: 122 | epsilon: 0.009920974201040588 | length of experienced data 20000 \n",
            "Episode : 456 | score: 139 | epsilon: 0.009920974201040588 | length of experienced data 20000 \n",
            "Episode : 457 | score: 156 | epsilon: 0.009920974201040588 | length of experienced data 20000 \n",
            "Episode : 458 | score: 190 | epsilon: 0.009920974201040588 | length of experienced data 20000 \n",
            "Episode : 459 | score: 101 | epsilon: 0.009920974201040588 | length of experienced data 20000 \n",
            "Episode : 460 | score: 152 | epsilon: 0.009920974201040588 | length of experienced data 20000 \n",
            "Episode : 461 | score: 112 | epsilon: 0.009920974201040588 | length of experienced data 20000 \n",
            "Episode : 462 | score: 175 | epsilon: 0.009920974201040588 | length of experienced data 20000 \n",
            "Episode : 463 | score: 415 | epsilon: 0.009920974201040588 | length of experienced data 20000 \n",
            "Episode : 464 | score: 299 | epsilon: 0.009920974201040588 | length of experienced data 20000 \n",
            "Episode : 465 | score: 371 | epsilon: 0.009920974201040588 | length of experienced data 20000 \n",
            "Episode : 466 | score: 258 | epsilon: 0.009920974201040588 | length of experienced data 20000 \n",
            "Episode : 467 | score: 180 | epsilon: 0.009920974201040588 | length of experienced data 20000 \n",
            "Episode : 468 | score: 86 | epsilon: 0.009920974201040588 | length of experienced data 20000 \n",
            "Episode : 469 | score: 445 | epsilon: 0.009920974201040588 | length of experienced data 20000 \n",
            "Episode : 470 | score: 145 | epsilon: 0.009920974201040588 | length of experienced data 20000 \n",
            "Episode : 471 | score: 43 | epsilon: 0.009920974201040588 | length of experienced data 20000 \n",
            "Episode : 472 | score: 91 | epsilon: 0.009920974201040588 | length of experienced data 20000 \n",
            "Episode : 473 | score: 169 | epsilon: 0.009920974201040588 | length of experienced data 20000 \n",
            "Episode : 474 | score: 205 | epsilon: 0.009920974201040588 | length of experienced data 20000 \n",
            "Episode : 475 | score: 500 | epsilon: 0.009920974201040588 | length of experienced data 20000 \n",
            "Episode : 476 | score: 81 | epsilon: 0.009920974201040588 | length of experienced data 20000 \n",
            "Episode : 477 | score: 226 | epsilon: 0.009920974201040588 | length of experienced data 20000 \n",
            "Episode : 478 | score: 138 | epsilon: 0.009920974201040588 | length of experienced data 20000 \n",
            "Episode : 479 | score: 213 | epsilon: 0.009920974201040588 | length of experienced data 20000 \n",
            "Episode : 480 | score: 136 | epsilon: 0.009920974201040588 | length of experienced data 20000 \n",
            "Episode : 481 | score: 166 | epsilon: 0.009920974201040588 | length of experienced data 20000 \n",
            "Episode : 482 | score: 185 | epsilon: 0.009920974201040588 | length of experienced data 20000 \n",
            "Episode : 483 | score: 182 | epsilon: 0.009920974201040588 | length of experienced data 20000 \n",
            "Episode : 484 | score: 80 | epsilon: 0.009920974201040588 | length of experienced data 20000 \n",
            "Episode : 485 | score: 83 | epsilon: 0.009920974201040588 | length of experienced data 20000 \n",
            "Episode : 486 | score: 176 | epsilon: 0.009920974201040588 | length of experienced data 20000 \n",
            "Episode : 487 | score: 199 | epsilon: 0.009920974201040588 | length of experienced data 20000 \n",
            "Episode : 488 | score: 227 | epsilon: 0.009920974201040588 | length of experienced data 20000 \n",
            "Episode : 489 | score: 84 | epsilon: 0.009920974201040588 | length of experienced data 20000 \n",
            "Episode : 490 | score: 131 | epsilon: 0.009920974201040588 | length of experienced data 20000 \n",
            "Episode : 491 | score: 349 | epsilon: 0.009920974201040588 | length of experienced data 20000 \n",
            "Episode : 492 | score: 445 | epsilon: 0.009920974201040588 | length of experienced data 20000 \n",
            "Episode : 493 | score: 253 | epsilon: 0.009920974201040588 | length of experienced data 20000 \n",
            "Episode : 494 | score: 432 | epsilon: 0.009920974201040588 | length of experienced data 20000 \n",
            "Episode : 495 | score: 344 | epsilon: 0.009920974201040588 | length of experienced data 20000 \n",
            "Episode : 496 | score: 500 | epsilon: 0.009920974201040588 | length of experienced data 20000 \n",
            "Episode : 497 | score: 263 | epsilon: 0.009920974201040588 | length of experienced data 20000 \n",
            "Episode : 498 | score: 500 | epsilon: 0.009920974201040588 | length of experienced data 20000 \n",
            "Episode : 499 | score: 256 | epsilon: 0.009920974201040588 | length of experienced data 20000 \n"
          ],
          "name": "stdout"
        }
      ]
    },
    {
      "cell_type": "markdown",
      "metadata": {
        "id": "TDEop2lxtBLh"
      },
      "source": [
        "## Game Play"
      ]
    },
    {
      "cell_type": "code",
      "metadata": {
        "id": "7ADcws8Jvuly"
      },
      "source": [
        "def gamePlay(agent):\n",
        "  scores=[]\n",
        "  score=0\n",
        "  state = env.reset()\n",
        "  done=False\n",
        "  while not done:\n",
        "    action=get_action(agent,state,epsilon,n_actions,n_states)\n",
        "    next_state,reward,done,_=env.step(action)\n",
        "    state=next_state\n",
        "    score+=1\n",
        "  return score"
      ],
      "execution_count": 33,
      "outputs": []
    },
    {
      "cell_type": "code",
      "metadata": {
        "colab": {
          "base_uri": "https://localhost:8080/"
        },
        "id": "I8yV_qfmwZNo",
        "outputId": "9b077776-118c-4703-90d1-d8f5388a2bb8"
      },
      "source": [
        "n_episodes = 100\n",
        "sum=0\n",
        "for episode in range(n_episodes):\n",
        "  score = gamePlay(agent)\n",
        "  # print(f\"Episode {episode} Score {score}\")\n",
        "  sum+=score\n",
        "print(f\"Avg score for {n_episodes} episodes : {sum/n_episodes}\")"
      ],
      "execution_count": 40,
      "outputs": [
        {
          "output_type": "stream",
          "text": [
            "Avg score for 100 episodes : 304.52\n"
          ],
          "name": "stdout"
        }
      ]
    },
    {
      "cell_type": "markdown",
      "metadata": {
        "id": "-NX_jsmFBLzN"
      },
      "source": [
        "### Conclusion: After training a model on 500 game episodes, model is able to perform much better than a random game execution."
      ]
    }
  ]
}